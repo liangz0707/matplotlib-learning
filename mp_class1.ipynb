{
 "cells": [
  {
   "cell_type": "markdown",
   "metadata": {},
   "source": [
    "#引言\n",
    "本内容修改自：http://reverland.org/python/2012/09/07/matplotlib-tutorial/ \n",
    "主要重新根据自己了理解做了精简并且补充了原始版本一些确实的部分\n",
    "\n",
    "- matplotlib：是一个2D的绘图包，提供多种的输出格式和交互方式。\n",
    "- ipython：是一个增强python交互能力的shell，可以使用shell命令\n",
    "- pylab：当在ipython加入这个参数，可以给matplotlib提供更多的功能（交互界面）\n",
    "\n"
   ]
  },
  {
   "cell_type": "markdown",
   "metadata": {},
   "source": [
    "#简单的绘图\n",
    "目标正弦函数"
   ]
  },
  {
   "cell_type": "code",
   "execution_count": 1,
   "metadata": {
    "collapsed": false
   },
   "outputs": [],
   "source": [
    "#导入依赖库\n",
    "#本内容是我用ipython notebook写的所以已经使用的ipython，所以你使用这个python代码的使用请使用ipython打开\n",
    "from pylab import *\n",
    "import numpy as np\n",
    "\n",
    "X = np.linspace(-np.pi,np.pi,256,endpoint=True)   #参数解释(开始值，结束值，总采样个数，是否使用端点)\n",
    "C,S = np.cos(X),np.sin(X)  \n",
    "\n",
    "plot(X,C)\n",
    "plot(X,S)\n",
    "\n",
    "show()#show命令会清空当前plot的内容"
   ]
  },
  {
   "cell_type": "markdown",
   "metadata": {},
   "source": [
    "结果如下图所示：\n",
    "![IPython](image/1.png)"
   ]
  },
  {
   "cell_type": "code",
   "execution_count": 6,
   "metadata": {
    "collapsed": false
   },
   "outputs": [],
   "source": [
    "#这部分代码，主要用于对样式进行调整。\n",
    "#设置分辨率\n",
    "figure(figsize=(8,6), dpi=80)\n",
    "#类似matlab 设置子窗口\n",
    "subplot(1,1,1)\n",
    "#设置颜色，线的粗细，和线的风格\n",
    "plot(X, C, color=\"blue\", linewidth=2.0, linestyle=\"-\")\n",
    "plot(X, S, color=\"green\", linewidth=1.0, linestyle=\"-\")\n",
    "#设置坐标轴的范围\n",
    "#xlim(-4.0,4.0)\n",
    "#ylim(-1.0,1.0)\n",
    "#其他例子\n",
    "xlim(X.min()*1.1, X.max()*1.1)\n",
    "ylim(C.min()*1.1, C.max()*1.1)\n",
    "\n",
    "#设置坐标轴轴的精确度\n",
    "#这个设置必须要把所有的刻度都要显示出来，所以如果范围太大，就会抵消xlim的设置。\n",
    "xticks(np.linspace(-3,3,9,endpoint=True)) \n",
    "yticks(np.linspace(-1,1,5,endpoint=True))\n",
    "#其他例子\n",
    "#xticks( [-np.pi, -np.pi/2, 0, np.pi/2, np.pi])\n",
    "#yticks([-1, 0, +1])\n",
    "\n",
    "#以某种分辨率保存图像。\n",
    "#savefig(\"exercice_2.png\",dpi=72)\n",
    "show()"
   ]
  },
  {
   "cell_type": "markdown",
   "metadata": {},
   "source": [
    "结果类似下图：\n",
    "![IPython](image/2.png)"
   ]
  },
  {
   "cell_type": "code",
   "execution_count": 11,
   "metadata": {
    "collapsed": false
   },
   "outputs": [],
   "source": [
    "#这部分代码主要用来操作坐标轴\n",
    "ax = gca()\n",
    "#隐藏不必要的坐标轴\n",
    "ax.spines['right'].set_color('none')\n",
    "ax.spines['top'].set_color('none')\n",
    "ax.xaxis.set_ticks_position('bottom')#设置x方向刻度在那个坐标轴上\n",
    "ax.spines['bottom'].set_position(('data',0))#设置位置\n",
    "ax.yaxis.set_ticks_position('left')#设置y方向刻度在那个坐标轴上\n",
    "ax.spines['left'].set_position(('data',0))#设置位置\n",
    "#将坐标轴标签背景半透明化\n",
    "for label in ax.get_xticklabels() + ax.get_yticklabels():\n",
    "    label.set_fontsize(16)\n",
    "    label.set_bbox(dict(facecolor='white', edgecolor='None', alpha=0.65 ))\n",
    "    \n",
    "show()"
   ]
  },
  {
   "cell_type": "code",
   "execution_count": 56,
   "metadata": {
    "collapsed": false
   },
   "outputs": [
    {
     "data": {
      "text/plain": [
       "<matplotlib.legend.Legend at 0x940ee80>"
      ]
     },
     "execution_count": 56,
     "metadata": {},
     "output_type": "execute_result"
    }
   ],
   "source": [
    "#这部分代码用来添加图例\n",
    "#只要给plot添加label即可\n",
    "plot(X, C, color=\"blue\", linewidth=2.5, linestyle=\"-\", label=\"cosine\")\n",
    "plot(X, S, color=\"red\",  linewidth=2.5, linestyle=\"-\", label=\"sine\")\n",
    "#设置图例范围\n",
    "legend(loc='upper left') \n",
    "#show()"
   ]
  },
  {
   "cell_type": "code",
   "execution_count": 62,
   "metadata": {
    "collapsed": false
   },
   "outputs": [],
   "source": [
    "#这部分代码用来注解某些点\n",
    "t = 2*np.pi/3\n",
    "plot([t,t],[0,np.cos(t)], color ='blue', linewidth=2.5, linestyle=\"--\")#绘制线段，参数解释：x坐标列表，y坐标列表\n",
    "scatter([t,],[np.cos(t),], 150, color ='blue')#绘制交点，参数解释：x和y的坐标，点的大小，颜色\n",
    "\n",
    "annotate(r'$sin(\\frac{2\\pi}{3})=\\frac{\\sqrt{3}}{2}$',#注释内容\n",
    "         xy=(t, np.sin(t)), xycoords='data', #指向位置\n",
    "         xytext=(+10, +30), textcoords='offset points', fontsize=16,#注释和点的偏移\n",
    "         arrowprops=dict(arrowstyle=\"->\", connectionstyle=\"arc3,rad=.2\")) #箭头\n",
    "\n",
    "plot([t,t],[0,np.sin(t)], color ='red', linewidth=2.5, linestyle=\"--\")\n",
    "scatter([t,],[np.sin(t),], 50, color ='red')\n",
    "\n",
    "annotate(r'$cos(\\frac{2\\pi}{3})=-\\frac{1}{2}$',\n",
    "         xy=(t, np.cos(t)), xycoords='data',\n",
    "         xytext=(-90, -50), textcoords='offset points', fontsize=16,\n",
    "         arrowprops=dict(arrowstyle=\"->\", connectionstyle=\"arc3,rad=.2\"))\n",
    "show()"
   ]
  },
  {
   "cell_type": "code",
   "execution_count": null,
   "metadata": {
    "collapsed": true
   },
   "outputs": [],
   "source": []
  }
 ],
 "metadata": {
  "kernelspec": {
   "display_name": "Python 2",
   "language": "python",
   "name": "python2"
  },
  "language_info": {
   "codemirror_mode": {
    "name": "ipython",
    "version": 2
   },
   "file_extension": ".py",
   "mimetype": "text/x-python",
   "name": "python",
   "nbconvert_exporter": "python",
   "pygments_lexer": "ipython2",
   "version": "2.7.10"
  }
 },
 "nbformat": 4,
 "nbformat_minor": 0
}
