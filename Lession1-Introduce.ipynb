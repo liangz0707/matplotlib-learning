{
 "cells": [
  {
   "cell_type": "markdown",
   "metadata": {},
   "source": [
    "##Color Theory\n",
    "http://matplotlib.org/style_changes.html\n",
    "\n",
    "1. CIE XYZ\n",
    "2. sRGB\n",
    "3. CIE Lab\n",
    "4. CIECAM02\n",
    "\n",
    "颜色空间构建的工具：\n",
    "\n",
    "<code >\n",
    "pip install viscm\n",
    "python -m viscm edit\n",
    "</code>"
   ]
  },
  {
   "cell_type": "markdown",
   "metadata": {},
   "source": [
    "#使用样式表"
   ]
  },
  {
   "cell_type": "code",
   "execution_count": null,
   "metadata": {
    "collapsed": true
   },
   "outputs": [],
   "source": [
    "import matplotlib as mpl\n",
    "mpl.rcParams['lines.linewidth'] = 2\n",
    "mpl.rcParams['lines.color'] = 'r'\n",
    "\n",
    "# or mpl.rc('line',linewidth=2,color='r')\n",
    "# matplotlib.rcdefaults() command will restore the standard matplotlib default settings.\n",
    "# and  matplotlibrc has a file:\n",
    "matplotlib.matplotlib_fname()"
   ]
  },
  {
   "cell_type": "markdown",
   "metadata": {},
   "source": [
    "#使用matplotlib\n",
    "\n",
    "绘制内容会在完成所有参数设置后才会进行绘制。\n",
    "有时候希望 命令动态的改变的几种方法\n",
    "\n",
    "- IPython to the rescue\n",
    "- Other python interpreters\n",
    "- Controlling interactive updating"
   ]
  },
  {
   "cell_type": "code",
   "execution_count": 4,
   "metadata": {
    "collapsed": false
   },
   "outputs": [
    {
     "name": "stdout",
     "output_type": "stream",
     "text": [
      "Using matplotlib backend: Qt4Agg\n",
      "Populating the interactive namespace from numpy and matplotlib\n"
     ]
    }
   ],
   "source": [
    "%pylab\n",
    "x = randn(10000)\n",
    "a = hist(x, 100) "
   ]
  }
 ],
 "metadata": {
  "kernelspec": {
   "display_name": "Python 2",
   "language": "python",
   "name": "python2"
  },
  "language_info": {
   "codemirror_mode": {
    "name": "ipython",
    "version": 2
   },
   "file_extension": ".py",
   "mimetype": "text/x-python",
   "name": "python",
   "nbconvert_exporter": "python",
   "pygments_lexer": "ipython2",
   "version": "2.7.10"
  }
 },
 "nbformat": 4,
 "nbformat_minor": 0
}
