{
 "cells": [
  {
   "cell_type": "markdown",
   "metadata": {},
   "source": [
    "#多种图表的绘制"
   ]
  },
  {
   "cell_type": "markdown",
   "metadata": {},
   "source": [
    "##填充色图"
   ]
  },
  {
   "cell_type": "code",
   "execution_count": 11,
   "metadata": {
    "collapsed": false
   },
   "outputs": [],
   "source": [
    "import numpy as np\n",
    "from pylab import *\n",
    "#使用了ipython就相当于使用了以下命令，并且省略的plt\n",
    "#import matplotlib.pyplot as plt\n",
    "\n",
    "n = 256\n",
    "X = np.linspace(-np.pi,np.pi,n,endpoint=True)\n",
    "Y = np.sin(2*X)\n",
    "\n",
    "axes([0.025,0.025,0.95,0.95])\n",
    "\n",
    "plot (X, Y+1, color='blue', alpha=1.00)\n",
    "fill_between(X, 1, Y+1, color='blue', alpha=.25)\n",
    "\n",
    "plot (X, Y-1, color='blue', alpha=1.00)\n",
    "fill_between(X, -1, Y-1, (Y-1) > -1, color='blue', alpha=.25)\n",
    "fill_between(X, -1, Y-1, (Y-1) < -1, color='red',  alpha=.25)\n",
    "\n",
    "xlim(-np.pi,np.pi), plt.xticks([])\n",
    "ylim(-2.5,2.5), plt.yticks([])\n",
    "\n",
    "savefig(\"3.png\",dpi=48)\n",
    "show()"
   ]
  },
  {
   "cell_type": "markdown",
   "metadata": {},
   "source": [
    "![IPython](image/3.png)"
   ]
  },
  {
   "cell_type": "markdown",
   "metadata": {},
   "source": [
    "##散点图"
   ]
  },
  {
   "cell_type": "code",
   "execution_count": 29,
   "metadata": {
    "collapsed": false
   },
   "outputs": [],
   "source": [
    "n = 1024\n",
    "X = np.random.normal(0,1,n) #参数解释：正态分布中心，标准擦，个数。\n",
    "Y = np.random.normal(0,1,n)\n",
    "T = np.arctan2(Y,X) #计算偏转角度\n",
    "\n",
    "axes([0.025,0.025,0.95,0.95])\n",
    "scatter(X,Y, s=75, c=T, alpha=.5) #参数解释，X坐标顺序，y坐标序列，点大小，颜色，透明度\n",
    "\n",
    "xlim(-1.5,1.5), plt.xticks([])\n",
    "ylim(-1.5,1.5), plt.yticks([])\n",
    "# savefig('3.png',dpi=48)\n",
    "show()"
   ]
  },
  {
   "cell_type": "code",
   "execution_count": null,
   "metadata": {
    "collapsed": true
   },
   "outputs": [],
   "source": []
  }
 ],
 "metadata": {
  "kernelspec": {
   "display_name": "Python 2",
   "language": "python",
   "name": "python2"
  },
  "language_info": {
   "codemirror_mode": {
    "name": "ipython",
    "version": 2
   },
   "file_extension": ".py",
   "mimetype": "text/x-python",
   "name": "python",
   "nbconvert_exporter": "python",
   "pygments_lexer": "ipython2",
   "version": "2.7.10"
  }
 },
 "nbformat": 4,
 "nbformat_minor": 0
}
