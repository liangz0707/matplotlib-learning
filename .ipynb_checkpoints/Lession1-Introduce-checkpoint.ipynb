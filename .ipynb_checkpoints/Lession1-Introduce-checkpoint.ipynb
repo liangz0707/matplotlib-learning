{
 "cells": [
  {
   "cell_type": "markdown",
   "metadata": {},
   "source": [
    "##Color Theory\n",
    "http://matplotlib.org/style_changes.html\n",
    "\n",
    "1. CIE XYZ\n",
    "2. sRGB\n",
    "3. CIE Lab\n",
    "4. CIECAM02\n",
    "\n",
    "颜色空间构建的工具：\n",
    "\n",
    "<code >\n",
    "pip install viscm\n",
    "python -m viscm edit\n",
    "</code>"
   ]
  },
  {
   "cell_type": "markdown",
   "metadata": {},
   "source": [
    "#使用样式表"
   ]
  },
  {
   "cell_type": "code",
   "execution_count": null,
   "metadata": {
    "collapsed": true
   },
   "outputs": [],
   "source": [
    "import matplotlib as mpl\n",
    "mpl.rcParams['lines.linewidth'] = 2\n",
    "mpl.rcParams['lines.color'] = 'r'\n",
    "\n",
    "# or mpl.rc('line',linewidth=2,color='r')\n",
    "# matplotlib.rcdefaults() command will restore the standard matplotlib default settings.\n",
    "# and  matplotlibrc has a file:\n",
    "matplotlib.matplotlib_fname()"
   ]
  },
  {
   "cell_type": "markdown",
   "metadata": {},
   "source": [
    "#使用matplotlib\n",
    "\n",
    "绘制内容会在完成所有参数设置后才会进行绘制。\n",
    "有时候希望 命令动态的改变\n",
    "\n",
    "IPython to the rescue"
   ]
  },
  {
   "cell_type": "code",
   "execution_count": 2,
   "metadata": {
    "collapsed": false
   },
   "outputs": [
    {
     "name": "stdout",
     "output_type": "stream",
     "text": [
      "Using matplotlib backend: Qt4Agg\n",
      "Populating the interactive namespace from numpy and matplotlib\n"
     ]
    },
    {
     "data": {
      "text/plain": [
       "(array([   1.,    0.,    2.,    0.,    1.,    0.,    2.,    3.,    3.,\n",
       "           3.,    5.,    6.,    7.,   11.,   19.,   15.,   14.,   23.,\n",
       "          33.,   37.,   32.,   48.,   65.,   74.,   75.,   80.,   93.,\n",
       "         110.,  105.,  114.,  142.,  170.,  163.,  192.,  192.,  197.,\n",
       "         226.,  230.,  248.,  290.,  258.,  307.,  312.,  318.,  308.,\n",
       "         309.,  306.,  307.,  303.,  298.,  259.,  301.,  258.,  260.,\n",
       "         262.,  243.,  222.,  236.,  220.,  198.,  194.,  147.,  170.,\n",
       "         113.,  116.,  121.,   93.,   89.,   65.,   70.,   48.,   38.,\n",
       "          38.,   49.,   24.,   21.,   12.,   17.,   17.,    5.,   10.,\n",
       "           3.,    7.,    4.,    3.,    4.,    2.,    2.,    0.,    1.,\n",
       "           0.,    0.,    0.,    0.,    0.,    0.,    0.,    0.,    0.,    1.]),\n",
       " array([-3.61837071, -3.54055846, -3.46274622, -3.38493397, -3.30712172,\n",
       "        -3.22930948, -3.15149723, -3.07368499, -2.99587274, -2.91806049,\n",
       "        -2.84024825, -2.762436  , -2.68462376, -2.60681151, -2.52899926,\n",
       "        -2.45118702, -2.37337477, -2.29556253, -2.21775028, -2.13993804,\n",
       "        -2.06212579, -1.98431354, -1.9065013 , -1.82868905, -1.75087681,\n",
       "        -1.67306456, -1.59525231, -1.51744007, -1.43962782, -1.36181558,\n",
       "        -1.28400333, -1.20619108, -1.12837884, -1.05056659, -0.97275435,\n",
       "        -0.8949421 , -0.81712986, -0.73931761, -0.66150536, -0.58369312,\n",
       "        -0.50588087, -0.42806863, -0.35025638, -0.27244413, -0.19463189,\n",
       "        -0.11681964, -0.0390074 ,  0.03880485,  0.11661709,  0.19442934,\n",
       "         0.27224159,  0.35005383,  0.42786608,  0.50567832,  0.58349057,\n",
       "         0.66130282,  0.73911506,  0.81692731,  0.89473955,  0.9725518 ,\n",
       "         1.05036405,  1.12817629,  1.20598854,  1.28380078,  1.36161303,\n",
       "         1.43942527,  1.51723752,  1.59504977,  1.67286201,  1.75067426,\n",
       "         1.8284865 ,  1.90629875,  1.984111  ,  2.06192324,  2.13973549,\n",
       "         2.21754773,  2.29535998,  2.37317223,  2.45098447,  2.52879672,\n",
       "         2.60660896,  2.68442121,  2.76223345,  2.8400457 ,  2.91785795,\n",
       "         2.99567019,  3.07348244,  3.15129468,  3.22910693,  3.30691918,\n",
       "         3.38473142,  3.46254367,  3.54035591,  3.61816816,  3.6959804 ,\n",
       "         3.77379265,  3.8516049 ,  3.92941714,  4.00722939,  4.08504163,\n",
       "         4.16285388]),\n",
       " <a list of 100 Patch objects>)"
      ]
     },
     "execution_count": 2,
     "metadata": {},
     "output_type": "execute_result"
    }
   ],
   "source": [
    "%pylab\n",
    "x = randn(10000)\n",
    "hist(x, 100)"
   ]
  }
 ],
 "metadata": {
  "kernelspec": {
   "display_name": "Python 2",
   "language": "python",
   "name": "python2"
  },
  "language_info": {
   "codemirror_mode": {
    "name": "ipython",
    "version": 2
   },
   "file_extension": ".py",
   "mimetype": "text/x-python",
   "name": "python",
   "nbconvert_exporter": "python",
   "pygments_lexer": "ipython2",
   "version": "2.7.10"
  }
 },
 "nbformat": 4,
 "nbformat_minor": 0
}
