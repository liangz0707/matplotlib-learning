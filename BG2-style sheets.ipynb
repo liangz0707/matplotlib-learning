{
 "cells": [
  {
   "cell_type": "code",
   "execution_count": 10,
   "metadata": {
    "collapsed": false
   },
   "outputs": [
    {
     "name": "stdout",
     "output_type": "stream",
     "text": [
      "[u'dark_background', u'bmh', u'grayscale', u'ggplot', u'fivethirtyeight']\n"
     ]
    },
    {
     "data": {
      "text/plain": [
       "'\\nmatplotlib.get_configdir()\\nFor example, you might want to create mpl_configdir/stylelib/presentation.mplstyle with the following:\\n\\naxes.titlesize : 24\\naxes.labelsize : 20\\nlines.linewidth : 3\\nlines.markersize : 10\\nxtick.labelsize : 16\\nytick.labelsize : 16\\n'"
      ]
     },
     "execution_count": 10,
     "metadata": {},
     "output_type": "execute_result"
    }
   ],
   "source": [
    "import matplotlib.pyplot as plt\n",
    "import numpy as np\n",
    "plt.style.use('ggplot')\n",
    "print plt.style.available\n",
    "'''\n",
    "matplotlib.get_configdir()\n",
    "For example, you might want to create mpl_configdir/stylelib/presentation.mplstyle with the following:\n",
    "\n",
    "axes.titlesize : 24\n",
    "axes.labelsize : 20\n",
    "lines.linewidth : 3\n",
    "lines.markersize : 10\n",
    "xtick.labelsize : 16\n",
    "ytick.labelsize : 16\n",
    "'''"
   ]
  },
  {
   "cell_type": "code",
   "execution_count": 9,
   "metadata": {
    "collapsed": false
   },
   "outputs": [],
   "source": [
    "plt.style.use('bmh')\n",
    "plt.style.use(['dark_background', 'bmh'])"
   ]
  },
  {
   "cell_type": "code",
   "execution_count": 11,
   "metadata": {
    "collapsed": true
   },
   "outputs": [],
   "source": [
    "with plt.style.context(('dark_background')):\n",
    "    plt.plot(np.sin(np.linspace(0, 2*np.pi)), 'r-o')\n",
    "plt.show()"
   ]
  }
 ],
 "metadata": {
  "kernelspec": {
   "display_name": "Python 2",
   "language": "python",
   "name": "python2"
  },
  "language_info": {
   "codemirror_mode": {
    "name": "ipython",
    "version": 2
   },
   "file_extension": ".py",
   "mimetype": "text/x-python",
   "name": "python",
   "nbconvert_exporter": "python",
   "pygments_lexer": "ipython2",
   "version": "2.7.10"
  }
 },
 "nbformat": 4,
 "nbformat_minor": 0
}
